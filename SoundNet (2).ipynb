{
  "cells": [
    {
      "cell_type": "code",
      "execution_count": null,
      "id": "8ba53602-b2d8-4296-a7fb-8ccbff4ab8c0",
      "metadata": {
        "id": "8ba53602-b2d8-4296-a7fb-8ccbff4ab8c0"
      },
      "outputs": [],
      "source": [
        "!wget https://storage.googleapis.com/download.magenta.tensorflow.org/datasets/nsynth/nsynth-train.jsonwav.tar.gz\n",
        "!tar -xvf nsynth-train.jsonwav.tar.gz"
      ]
    },
    {
      "cell_type": "code",
      "execution_count": 2,
      "id": "a17228b1-a951-44bb-ac8a-e5897c889e04",
      "metadata": {
        "id": "a17228b1-a951-44bb-ac8a-e5897c889e04"
      },
      "outputs": [],
      "source": [
        "import torch\n",
        "import json\n",
        "import os\n",
        "import numpy as np\n",
        "from torch.utils.data import Dataset\n",
        "from torch import Tensor\n",
        "from torchaudio import load\n",
        "import librosa\n",
        "from matplotlib import pyplot as plt\n",
        "%matplotlib inline"
      ]
    },
    {
      "cell_type": "code",
      "execution_count": 3,
      "id": "54b89bfe-3d4a-4001-b0a9-a21e87dd2ee4",
      "metadata": {
        "colab": {
          "base_uri": "https://localhost:8080/"
        },
        "id": "54b89bfe-3d4a-4001-b0a9-a21e87dd2ee4",
        "outputId": "c4883e08-044c-4edc-e4e2-d4594a2436ad"
      },
      "outputs": [
        {
          "output_type": "execute_result",
          "data": {
            "text/plain": [
              "device(type='cpu')"
            ]
          },
          "metadata": {},
          "execution_count": 3
        }
      ],
      "source": [
        "device = torch.device(\"cuda:0\") if torch.cuda.is_available() else torch.device(\"cpu\")\n",
        "device"
      ]
    },
    {
      "cell_type": "code",
      "execution_count": 4,
      "id": "ab4dd176-f310-487a-950e-d886b1b9b561",
      "metadata": {
        "id": "ab4dd176-f310-487a-950e-d886b1b9b561"
      },
      "outputs": [],
      "source": [
        "data_path='./nsynth-train/audio'\n",
        "json_path='./nsynth-train/examples.json'\n",
        "batch_size=32"
      ]
    },
    {
      "cell_type": "code",
      "execution_count": 5,
      "id": "e4992ef9-2cf9-4082-bb58-297258d9a90c",
      "metadata": {
        "id": "e4992ef9-2cf9-4082-bb58-297258d9a90c"
      },
      "outputs": [],
      "source": [
        "f = open(json_path, \"r\")\n",
        "targets = json.load(f)"
      ]
    },
    {
      "cell_type": "code",
      "execution_count": 6,
      "id": "75aa5c0f-f567-4daf-8857-d1242e74fa09",
      "metadata": {
        "id": "75aa5c0f-f567-4daf-8857-d1242e74fa09"
      },
      "outputs": [],
      "source": [
        "def get_mel_spectrogram(waveform, sample_rate):\n",
        "    mel_spectrogram = librosa.feature.melspectrogram(y=waveform.numpy(), sr=sample_rate)\n",
        "    mel_spectrogram = librosa.power_to_db(mel_spectrogram, ref=np.max)\n",
        "    mel_spectrogram = torch.from_numpy(mel_spectrogram).unsqueeze(0)\n",
        "    return mel_spectrogram.clone().detach()"
      ]
    },
    {
      "cell_type": "code",
      "execution_count": 7,
      "id": "6d9c4350-31a5-4031-838e-907f5e8c922e",
      "metadata": {
        "id": "6d9c4350-31a5-4031-838e-907f5e8c922e"
      },
      "outputs": [],
      "source": [
        "class NSynthDataset(Dataset):\n",
        "    def __init__(self):\n",
        "        self.data_path = data_path\n",
        "        self.file_list = os.listdir(self.data_path)\n",
        "\n",
        "    def __len__(self):\n",
        "        return len(self.file_list)\n",
        "\n",
        "    def __getitem__(self, idx):\n",
        "        file = self.file_list[idx]\n",
        "        file_name = file.split('.')[0]\n",
        "        pitch = targets[file_name]['pitch']\n",
        "        waveform, sample_rate = load(os.path.join(self.data_path, file))\n",
        "        mel_spec = get_mel_spectrogram(waveform, sample_rate)[0][0]\n",
        "        return mel_spec, pitch"
      ]
    },
    {
      "cell_type": "code",
      "execution_count": 8,
      "id": "d4c8ca02-2730-4163-9cd3-ba16c5aa43fb",
      "metadata": {
        "id": "d4c8ca02-2730-4163-9cd3-ba16c5aa43fb"
      },
      "outputs": [],
      "source": [
        "nsynth_dataset = NSynthDataset()"
      ]
    },
    {
      "cell_type": "code",
      "execution_count": 9,
      "id": "45fafd8a-8bb5-462c-8c0c-a5c6cd5c3b1a",
      "metadata": {
        "id": "45fafd8a-8bb5-462c-8c0c-a5c6cd5c3b1a"
      },
      "outputs": [],
      "source": [
        "train_loader = torch.utils.data.DataLoader(\n",
        "    nsynth_dataset, batch_size=batch_size, shuffle=False, num_workers=2\n",
        ")"
      ]
    },
    {
      "cell_type": "code",
      "execution_count": 10,
      "id": "2f27d371-11eb-4e60-bca3-e4c3f8c4ee82",
      "metadata": {
        "colab": {
          "base_uri": "https://localhost:8080/"
        },
        "id": "2f27d371-11eb-4e60-bca3-e4c3f8c4ee82",
        "outputId": "b618511d-bfb8-4cdc-f443-0bddce3e5072"
      },
      "outputs": [
        {
          "output_type": "execute_result",
          "data": {
            "text/plain": [
              "(torch.Size([32, 16128]), torch.Size([32]))"
            ]
          },
          "metadata": {},
          "execution_count": 10
        }
      ],
      "source": [
        "x_batch, y_batch = next(iter(train_loader))\n",
        "x_batch.reshape(x_batch.shape[0], -1).shape, y_batch.shape"
      ]
    },
    {
      "cell_type": "code",
      "execution_count": 16,
      "id": "c7ed9971-fa01-4cd9-95de-b79ab6375786",
      "metadata": {
        "id": "c7ed9971-fa01-4cd9-95de-b79ab6375786"
      },
      "outputs": [],
      "source": [
        "features = 16128\n",
        "hidden = 200\n",
        "classes = 128"
      ]
    },
    {
      "cell_type": "code",
      "execution_count": null,
      "id": "67de54b3-03c7-4269-9186-6452d55b482c",
      "metadata": {
        "id": "67de54b3-03c7-4269-9186-6452d55b482c"
      },
      "outputs": [],
      "source": [
        "w1 = (torch.FloatTensor(features, hidden).uniform_(-1, 1) / features**0.5).to(device)\n",
        "w2 = (torch.FloatTensor(hidden, hidden).uniform_(-1, 1) / features**0.5).to(device)\n",
        "w3 = (torch.FloatTensor(hidden, classes).uniform_(-1, 1) / features**0.5).to(device)\n",
        "w1.requires_grad_(True)\n",
        "w2.requires_grad_(True)\n",
        "w3.requires_grad_(True)"
      ]
    },
    {
      "cell_type": "code",
      "execution_count": 18,
      "id": "ce084e03-b517-4f4e-957c-f5ea2a5b6d7e",
      "metadata": {
        "id": "ce084e03-b517-4f4e-957c-f5ea2a5b6d7e"
      },
      "outputs": [],
      "source": [
        "epochs = 20\n",
        "lr=0.01\n",
        "history=[]"
      ]
    },
    {
      "cell_type": "code",
      "execution_count": 19,
      "id": "8f68b786-a428-49e2-ba16-4e0f5caf416a",
      "metadata": {
        "id": "8f68b786-a428-49e2-ba16-4e0f5caf416a"
      },
      "outputs": [],
      "source": [
        "from torch.nn.functional import cross_entropy"
      ]
    },
    {
      "cell_type": "code",
      "execution_count": null,
      "id": "2cb68bec-0178-444f-b27c-4bc434c1b161",
      "metadata": {
        "id": "2cb68bec-0178-444f-b27c-4bc434c1b161"
      },
      "outputs": [],
      "source": [
        "for i in range(epochs):\n",
        "  for x_batch, y_batch in train_loader:\n",
        "    x_batch = x_batch.reshape(x_batch.shape[0], -1).to(device)\n",
        "    y_batch = y_batch.to(device)\n",
        "    hidden1 = x_batch @ w1\n",
        "    hidden2 = hidden1 @ w2\n",
        "    logits = hidden2 @ w3\n",
        "    probabilities = torch.exp(logits) / torch.exp(logits).sum(dim=1, keepdims=True)\n",
        "    loss = -torch.log(probabilities[range(batch_size), y_batch]).mean()\n",
        "    history.append(loss.item())\n",
        "    loss.backward()\n",
        "    grad1 = w1.grad\n",
        "    grad2 = w2.grad\n",
        "    grad3 = w3.grad\n",
        "    with torch.no_grad():\n",
        "      w1 -= lr * grad1\n",
        "      w2 -= lr * grad2\n",
        "      w3 -= lr * grad3\n",
        "    w1.grad.zero_()\n",
        "    w2.grad.zero_()\n",
        "    w3.grad.zero_()\n",
        "  print(f'{i+1}: loss {history[-1]}')"
      ]
    },
    {
      "cell_type": "code",
      "source": [
        "plt.figure(figsize=(30, 7))\n",
        "\n",
        "plt.plot(history)\n",
        "\n",
        "plt.title('Loss by batch iterations')\n",
        "plt.ylabel('Entropy Loss')\n",
        "plt.xlabel('batches')\n",
        "\n",
        "plt.show()"
      ],
      "metadata": {
        "id": "s95wewXVJyEO"
      },
      "id": "s95wewXVJyEO",
      "execution_count": null,
      "outputs": []
    },
    {
      "cell_type": "code",
      "source": [
        "from sklearn.metrics import accuracy_score\n",
        "acc = 0\n",
        "batches = 0\n",
        "\n",
        "for x_batch, y_batch in test_loader:\n",
        "  # загружаем батч данных (вытянутый в линию)\n",
        "  batches += 1\n",
        "  x_batch = x_batch.view(x_batch.shape[0], -1).to(device)\n",
        "  y_batch = y_batch.to(device)\n",
        "\n",
        "  preds = torch.argmax((((x_batch @ w1) @ w2) @ w3), dim=1).to(device)\n",
        "  acc += (preds==y_batch).cpu().numpy().mean()\n",
        "\n",
        "print(f'Test accuracy {acc / batches:.3}')"
      ],
      "metadata": {
        "id": "wd8Es_lBJyYh"
      },
      "id": "wd8Es_lBJyYh",
      "execution_count": null,
      "outputs": []
    },
    {
      "cell_type": "code",
      "source": [],
      "metadata": {
        "id": "DE52KUT8Jycu"
      },
      "id": "DE52KUT8Jycu",
      "execution_count": null,
      "outputs": []
    },
    {
      "cell_type": "code",
      "source": [],
      "metadata": {
        "id": "znYrTx1jJygv"
      },
      "id": "znYrTx1jJygv",
      "execution_count": null,
      "outputs": []
    },
    {
      "cell_type": "code",
      "source": [],
      "metadata": {
        "id": "AkzYjcHiJykd"
      },
      "id": "AkzYjcHiJykd",
      "execution_count": null,
      "outputs": []
    },
    {
      "cell_type": "code",
      "execution_count": null,
      "id": "b9eab5ab-7ba2-4654-9dd1-a64788a7fef7",
      "metadata": {
        "id": "b9eab5ab-7ba2-4654-9dd1-a64788a7fef7"
      },
      "outputs": [],
      "source": []
    }
  ],
  "metadata": {
    "kernelspec": {
      "display_name": "torch_kernel",
      "language": "python",
      "name": "torch_kernel"
    },
    "language_info": {
      "codemirror_mode": {
        "name": "ipython",
        "version": 3
      },
      "file_extension": ".py",
      "mimetype": "text/x-python",
      "name": "python",
      "nbconvert_exporter": "python",
      "pygments_lexer": "ipython3",
      "version": "3.11.6"
    },
    "colab": {
      "provenance": []
    }
  },
  "nbformat": 4,
  "nbformat_minor": 5
}